{
 "cells": [
  {
   "cell_type": "markdown",
   "id": "e95c1df4-351c-4754-b442-612a5963f013",
   "metadata": {},
   "source": [
    "Q1. What is a database? Differentiate between SQL and NoSQL databases. "
   ]
  },
  {
   "cell_type": "markdown",
   "id": "6357bb4f-2018-4901-aaa6-60fdf4ca09bb",
   "metadata": {},
   "source": [
    "Database : A database is an organized collection of structured information, or data, typically stored electronically in a computer system. A database is usually controlled by a database management system (DBMS). Together, the data and the DBMS, along with the applications that are associated with them, are referred to as a database system, often shortened to just database.\n",
    "The Database is an essential part of our life. As we encounter several activities that involve our interaction with databases, for example in the bank, in the railway station, in school, in a grocery store, etc. These are the instances where we need to store a large amount of data in one place and fetch these data easily.\n",
    "\n",
    "difference between SQL and NoSQL databases : \n",
    "\n",
    "Type –  SQL databases are primarily called as Relational Databases (RDBMS), whereas NoSQL database are primarily called as non-relational or distributed database.\n",
    "\n",
    "Language - SQL databases defines and manipulates data based structured query language (SQL). Seeing from a side this language is extremely powerful. SQL is one of the most versatile and widely-used options available which makes it a safe choice especially for great complex queries.\n",
    "A NoSQL database has dynamic schema for unstructured data. Data is stored in many ways which means it can be document-oriented, column-oriented, graph-based or organized as a KeyValue store.\n",
    "\n",
    "Scalability – In almost all situations SQL databases are vertically scalable. This means that you can increase the load on a single server by increasing things like RAM, CPU or SSD. But on the other hand NoSQL databases are horizontally scalable. This means that you handle more traffic by sharding, or adding more servers in your NoSQL database.\n",
    "\n",
    "Structure – \n",
    "SQL databases are table-based on the other hand NoSQL databases are either key-value pairs, document-based, graph databases or wide-column stores. This makes relational SQL databases a better option for applications that require multi-row transactions such as an accounting system or for legacy systems that were built for a relational structure."
   ]
  },
  {
   "cell_type": "markdown",
   "id": "c4d36af8-18ce-4fa7-b1a3-3d94c1d8940d",
   "metadata": {},
   "source": [
    "Q2. What is DDL? Explain why CREATE, DROP, ALTER, and TRUNCATE are used with an example."
   ]
  },
  {
   "cell_type": "markdown",
   "id": "10e31c71-7c69-4d98-bfc9-00d57c1d1bd8",
   "metadata": {},
   "source": [
    "DDL -> A data definition language (DDL) is a computer language used to create and modify the structure of database objects in a database. These database objects include views, schemas, tables, indexes, etc.\n",
    "This term is also known as data description language in some contexts, as it describes the fields and records in a database table.\n",
    "\n",
    "CREATE: This command builds a new table and has a predefined syntax. The CREATE statement syntax is:\n",
    "\n",
    "CREATE TABLE [table name] ([column definitions]) [table parameters];\n",
    "\n",
    "For example: CREATE TABLE Employee (Employee Id INTEGER PRIMARY KEY, First name CHAR (50) NULL, Last name CHAR (75) NOT NULL);\n",
    "\n",
    "In this example, the string CHAR is used to specify the data type. Other data types can be DATE, NUMBER, or INTEGER.\n",
    "\n",
    "DROP : A drop command is used to delete objects such as a table, index or view. A DROP statement cannot be rolled back, so once an object is destroyed, there’s no way to recover it.\n",
    "\n",
    "Drop statement syntax is:\n",
    "\n",
    "DROP object type object name;\n",
    "\n",
    "For example: DROP TABLE Employee;\n",
    "\n",
    "In this example, we’re del\n",
    "\n",
    "ALTER : An alter command modifies an existing database table. This command can add up additional column, drop existing columns and even change the data type of columns involved in a database table.\n",
    "\n",
    "An alter command syntax is:\n",
    "\n",
    "ALTER object type object name parameters;\n",
    "\n",
    "For example: ALTER TABLE Employee ADD PRIMARY KEY (employee_pk);\n",
    "\n",
    "In this example, we added a unique primary key to the table to add a constraint and enforce a unique value. The constraint “employee_pk” is a primary key and is on the Employee table.\n",
    "\n",
    "TRUNCATE : Similar to DROP, the TRUNCATE statement is used to quickly remove all records from a table. However, unlike DROP that completely destroys a table, TRUNCATE preserves its full structure to be reused later.\n",
    "\n",
    "Truncate statement syntax is:\n",
    "\n",
    "TRUNCATE TABLE table_name;\n",
    "\n",
    "For example: TRUNCATE TABLE Employee;\n",
    "\n",
    "In this example, we’re marking all the extents of the Employee table for deallocation, so they’re considered empty for reuse."
   ]
  },
  {
   "cell_type": "markdown",
   "id": "f1913cab-6211-4937-8294-9dd0c6e3ad47",
   "metadata": {},
   "source": [
    " Q3. What is DML? Explain INSERT, UPDATE, and DELETE with an example. "
   ]
  },
  {
   "cell_type": "markdown",
   "id": "95e6114a-e0f7-46ca-9213-691d3174937c",
   "metadata": {},
   "source": [
    "DML : A data manipulation language (DML) is a family of computer languages including commands permitting users to manipulate data in a database. This manipulation involves inserting data into database tables, retrieving existing data, deleting data from existing tables and modifying existing data. DML is mostly incorporated in SQL databases.\n",
    "\n",
    "INSERT: This command adds one or more records to a database table. \n",
    "\n",
    "The insert command syntax is INSERT INTO [table name] [column(s)] VALUES [value(s)].\n",
    "\n",
    "the INSERT INTO statement is used to insert new row(s) in a database table. For example,\n",
    "\n",
    "INSERT INTO Customers(first_name, last_name, age, country)\n",
    "\n",
    "VALUES\n",
    "\n",
    "('Harry', 'Potter', 31, 'USA'),\n",
    "\n",
    "('Chris', 'Hemsworth', 43, 'USA'),\n",
    "\n",
    "('Tom', 'Holland', 26, 'UK');\n",
    "\n",
    "UPDATE: This command modifies data of one or more records. \n",
    "\n",
    "An update command syntax is UPDATE [table name] SET [column name = value] where [condition].\n",
    "\n",
    "UPDATE statement is used to edit existing rows in a database table. For example,\n",
    "\n",
    "UPDATE Customers\n",
    "\n",
    "SET first_name = 'Johnny'\n",
    "\n",
    "WHERE customer_id = 1;\n",
    "\n",
    "DELETE: This command removes one or more records from a table according to specified conditions.\n",
    "\n",
    "Delete command syntax is DELETE FROM [table name] where [condition].\n",
    "\n",
    "we use the DELETE statement to delete row(s) from a database table. For example,\n",
    "\n",
    "DELETE FROM Customers\n",
    "\n",
    "WHERE customer_id = 5;"
   ]
  },
  {
   "cell_type": "markdown",
   "id": "8c4d9fcf-eb21-4065-8e54-6b2ce06afb59",
   "metadata": {},
   "source": [
    "Q4. What is DQL? Explain SELECT with an example. "
   ]
  },
  {
   "cell_type": "markdown",
   "id": "186d97d9-c739-47cd-8834-d950788f70d8",
   "metadata": {},
   "source": [
    "DQL :  DQLs or Data Query Languages, are computer languages that are used to make various queries in information systems and databases. The Structured Query Language (SQL) is a well-known example. DQL statements are used to query the data contained in schema objects. The primary goal of the DQL Command is to return a schema relation depending on the query supplied to it.\n",
    "\n",
    "DQL is a portion of a SQL statement that allows you to get and organise data from a database. You can use the SELECT command to extract data from a database in order to perform actions on it. It is the same as the projection operation in relational algebra. The result of a SELECT statement on a table or collection of tables is compiled into a new temporary table, which is subsequently displayed or received by a program\n",
    "\n",
    "Syntax\n",
    "\n",
    "SELECT expression FROM table_x WHERE code_conditions;\n",
    "\n",
    "Example\n",
    "\n",
    "SELECT Stu_Name FROM Student WHERE Phone = 9039462908;\n",
    "\n",
    "The command given above would select the record from the table ‘Student’ where the phone number is ‘9039462908’."
   ]
  },
  {
   "cell_type": "markdown",
   "id": "caf7fa7b-82ea-42c2-ab6a-366c21f2c64a",
   "metadata": {},
   "source": [
    "Q5. Explain Primary Key and Foreign Key. "
   ]
  },
  {
   "cell_type": "markdown",
   "id": "e5387f94-72a2-44f9-8e6e-6c8ae108b502",
   "metadata": {},
   "source": [
    "Primary Key: A primary key is used to ensure that data in the specific column is unique. A column cannot have NULL values. It is either an existing table column or a column that is specifically generated by the database according to a defined sequence. \n",
    "\n",
    "Example: STUD_NO, as well as STUD_PHONE both, are candidate keys for relation STUDENT but STUD_NO can be chosen as the primary key (only one out of many candidate keys).\n",
    "\n",
    "Foreign Key: A foreign key is a column or group of columns in a relational database table that provides a link between data in two tables. It is a column (or columns) that references a column (most often the primary key) of another table. \n",
    "\n",
    "Example: STUD_NO in STUDENT_COURSE is a foreign key to STUD_NO in STUDENT relation. "
   ]
  },
  {
   "cell_type": "markdown",
   "id": "6e24c68a-6476-466a-a79e-1e3ca46b4837",
   "metadata": {},
   "source": [
    "Q6. Write a python code to connect MySQL to python. Explain the cursor() and execute() method. "
   ]
  },
  {
   "cell_type": "code",
   "execution_count": null,
   "id": "fd509607-3207-4213-ac2b-0c47aea4be16",
   "metadata": {},
   "outputs": [],
   "source": [
    "import mysql.connector\n",
    "# import mysql.connector\n",
    "#create user 'user'@'%' identified by 'password'\n",
    "mydb = mysql.connector.connect(\n",
    "  host=\"localhost\",\n",
    "  user=\"abc\",\n",
    "  password=\"password\"\n",
    ")\n",
    "print(mydb)\n",
    "mycursor = mydb.cursor()\n",
    "mycursor.execute(\"SHOW DATABASES\")\n",
    "for x in mycursor:\n",
    "    print(x)"
   ]
  },
  {
   "cell_type": "markdown",
   "id": "784c1c2b-7fb9-475a-af12-67ff6cfb42e4",
   "metadata": {},
   "source": [
    "cursor() : Allows Python code to execute PostgreSQL command in a database session. Cursors are created by the connection.cursor() method: they are bound to the connection for the entire lifetime and all the commands are executed in the context of the database session wrapped by the connection.\n",
    "\n",
    "execute() : This method executes the given database operation (query or command). The parameters found in the tuple or dictionary params are bound to the variables in the operation. Specify variables using %s or %(name)s parameter style (that is, using format or pyformat style). execute() returns an iterator if multi is True."
   ]
  },
  {
   "cell_type": "markdown",
   "id": "ad99adbf-0022-4708-8e4f-555ccf07e9ae",
   "metadata": {},
   "source": [
    "Q7. Give the order of execution of SQL clauses in an SQL query. "
   ]
  },
  {
   "cell_type": "markdown",
   "id": "b475c6e5-e0d0-4744-89ec-84b93ae4c9e1",
   "metadata": {},
   "source": [
    "The order in which the clauses in queries are executed is as follows:\n",
    "\n",
    "1. FROM/JOIN: The FROM and/or JOIN clauses are executed first to determine the data of interest.\n",
    "\n",
    "2. WHERE: The WHERE clause is executed to filter out records that do not meet the constraints.\n",
    "\n",
    "3. GROUP BY: The GROUP BY clause is executed to group the data based on the values in one or more columns.\n",
    "\n",
    "4. HAVING: The HAVING clause is executed to remove the created grouped records that don’t meet the constraints.\n",
    "\n",
    "5. SELECT: The SELECT clause is executed to derive all desired columns and expressions.\n",
    "\n",
    "6. ORDER BY: The ORDER BY clause is executed to sort the derived values in ascending or descending order.\n",
    "\n",
    "7. LIMIT/OFFSET: Finally, the LIMIT and/or OFFSET clauses are executed to keep or skip a specified number of rows."
   ]
  },
  {
   "cell_type": "code",
   "execution_count": null,
   "id": "b7292227-16eb-4533-9a2d-88e2262e85f7",
   "metadata": {},
   "outputs": [],
   "source": []
  }
 ],
 "metadata": {
  "kernelspec": {
   "display_name": "Python 3 (ipykernel)",
   "language": "python",
   "name": "python3"
  },
  "language_info": {
   "codemirror_mode": {
    "name": "ipython",
    "version": 3
   },
   "file_extension": ".py",
   "mimetype": "text/x-python",
   "name": "python",
   "nbconvert_exporter": "python",
   "pygments_lexer": "ipython3",
   "version": "3.10.8"
  }
 },
 "nbformat": 4,
 "nbformat_minor": 5
}
